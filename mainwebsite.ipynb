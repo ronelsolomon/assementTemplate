{
 "cells": [
  {
   "cell_type": "code",
   "execution_count": 2,
   "id": "5180343f-7dca-4a2c-a0e7-cf3afca64202",
   "metadata": {},
   "outputs": [
    {
     "name": "stdout",
     "output_type": "stream",
     "text": [
      " * Serving Flask app '__main__'\n",
      " * Debug mode: on\n"
     ]
    },
    {
     "name": "stderr",
     "output_type": "stream",
     "text": [
      "WARNING: This is a development server. Do not use it in a production deployment. Use a production WSGI server instead.\n",
      " * Running on http://127.0.0.1:5000\n",
      "Press CTRL+C to quit\n",
      " * Restarting with watchdog (fsevents)\n",
      "Traceback (most recent call last):\n",
      "  File \"/opt/homebrew/anaconda3/lib/python3.8/site-packages/ipykernel_launcher.py\", line 16, in <module>\n",
      "    from ipykernel import kernelapp as app\n",
      "  File \"/opt/homebrew/anaconda3/lib/python3.8/site-packages/ipykernel/kernelapp.py\", line 21, in <module>\n",
      "    from IPython.core.application import (  # type:ignore[attr-defined]\n",
      "  File \"/opt/homebrew/anaconda3/lib/python3.8/site-packages/IPython/__init__.py\", line 53, in <module>\n",
      "    from .terminal.embed import embed\n",
      "  File \"/opt/homebrew/anaconda3/lib/python3.8/site-packages/IPython/terminal/embed.py\", line 16, in <module>\n",
      "    from IPython.terminal.interactiveshell import TerminalInteractiveShell\n",
      "  File \"/opt/homebrew/anaconda3/lib/python3.8/site-packages/IPython/terminal/interactiveshell.py\", line 48, in <module>\n",
      "    from .debugger import TerminalPdb, Pdb\n",
      "  File \"/opt/homebrew/anaconda3/lib/python3.8/site-packages/IPython/terminal/debugger.py\", line 6, in <module>\n",
      "    from IPython.core.completer import IPCompleter\n",
      "  File \"/opt/homebrew/anaconda3/lib/python3.8/site-packages/IPython/core/completer.py\", line 250, in <module>\n",
      "    import jedi\n",
      "  File \"/opt/homebrew/anaconda3/lib/python3.8/site-packages/jedi/__init__.py\", line 32, in <module>\n",
      "    from jedi.api import Script, Interpreter, set_debug_function, preload_module\n",
      "  File \"/opt/homebrew/anaconda3/lib/python3.8/site-packages/jedi/api/__init__.py\", line 13, in <module>\n",
      "    import parso\n",
      "  File \"/opt/homebrew/anaconda3/lib/python3.8/site-packages/parso/__init__.py\", line 42, in <module>\n",
      "    from parso.grammar import Grammar, load_grammar\n",
      "  File \"/opt/homebrew/anaconda3/lib/python3.8/site-packages/parso/grammar.py\", line 13, in <module>\n",
      "    from parso.cache import parser_cache, load_module, try_to_save_module\n",
      "  File \"/opt/homebrew/anaconda3/lib/python3.8/site-packages/parso/cache.py\", line 76, in <module>\n",
      "    _default_cache_path = _get_default_cache_path()\n",
      "  File \"/opt/homebrew/anaconda3/lib/python3.8/site-packages/parso/cache.py\", line 73, in _get_default_cache_path\n",
      "    return dir_.expanduser()\n",
      "AttributeError: 'PosixPath' object has no attribute 'expanduser'\n"
     ]
    },
    {
     "ename": "SystemExit",
     "evalue": "1",
     "output_type": "error",
     "traceback": [
      "An exception has occurred, use %tb to see the full traceback.\n",
      "\u001b[0;31mSystemExit\u001b[0m\u001b[0;31m:\u001b[0m 1\n"
     ]
    }
   ],
   "source": [
    "from flask import Flask, render_template\n",
    "\n",
    "app = Flask(__name__)\n",
    "\n",
    "@app.route('/')\n",
    "def home():\n",
    "    return render_template('mainPage.html')\n",
    "\n",
    "if __name__ == '__main__':\n",
    "    app.run(debug=True)"
   ]
  },
  {
   "cell_type": "code",
   "execution_count": null,
   "id": "0997395a-844d-4d25-be0c-e763c8ec5c54",
   "metadata": {},
   "outputs": [],
   "source": []
  }
 ],
 "metadata": {
  "kernelspec": {
   "display_name": "Python 3 (ipykernel)",
   "language": "python",
   "name": "python3"
  },
  "language_info": {
   "codemirror_mode": {
    "name": "ipython",
    "version": 3
   },
   "file_extension": ".py",
   "mimetype": "text/x-python",
   "name": "python",
   "nbconvert_exporter": "python",
   "pygments_lexer": "ipython3",
   "version": "3.8.18"
  }
 },
 "nbformat": 4,
 "nbformat_minor": 5
}
