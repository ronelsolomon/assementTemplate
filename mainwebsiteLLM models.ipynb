{
 "cells": [
  {
   "cell_type": "code",
   "execution_count": 7,
   "id": "61ad2a33-9537-4d70-94b2-a94d6d88e312",
   "metadata": {},
   "outputs": [
    {
     "name": "stdout",
     "output_type": "stream",
     "text": [
      "Requirement already satisfied: PyPDF in /opt/anaconda3/lib/python3.12/site-packages (5.1.0)\n"
     ]
    }
   ],
   "source": [
    "!pip install PyPDF"
   ]
  },
  {
   "cell_type": "code",
   "execution_count": 5,
   "id": "5180343f-7dca-4a2c-a0e7-cf3afca64202",
   "metadata": {},
   "outputs": [],
   "source": [
    "from flask import Flask, render_template\n",
    "\n",
    "import PyPDF2\n",
    "import os\n"
   ]
  },
  {
   "cell_type": "code",
   "execution_count": 24,
   "id": "0997395a-844d-4d25-be0c-e763c8ec5c54",
   "metadata": {},
   "outputs": [],
   "source": [
    "PDF_FOLDERs = \"../pdfs/exponential_Functions.pdf\"\n",
    "def extract_text_from_pdf(pdf_path):\n",
    "    \"\"\"\n",
    "    Extracts text from a PDF file.\n",
    "    \"\"\"\n",
    "    with open(pdf_path, \"rb\") as file:\n",
    "        reader = PyPDF2.PdfReader(file)\n",
    "        text = \"\"\n",
    "        for page in reader.pages:\n",
    "            text += page.extract_text()\n",
    "    return text\n",
    "\n",
    "def search_pdfs(keyword):\n",
    "    \"\"\"\n",
    "    Searches for a keyword in all PDFs in the specified folder.\n",
    "    \"\"\"\n",
    "    matching_pdfs = []\n",
    "    for filename in os.listdir(PDF_FOLDER):\n",
    "        if filename.endswith(\".pdf\"):\n",
    "            pdf_path = os.path.join(PDF_FOLDER, filename)\n",
    "            text = extract_text_from_pdf(pdf_path)\n",
    "            if keyword.lower() in text.lower():\n",
    "                matching_pdfs.append(filename)\n",
    "    return matching_pdfs"
   ]
  },
  {
   "cell_type": "code",
   "execution_count": 25,
   "id": "abf2e71b-b883-4f8b-80c4-1355eac4b875",
   "metadata": {},
   "outputs": [],
   "source": [
    "text = extract_text_from_pdf(PDF_FOLDERs)"
   ]
  },
  {
   "cell_type": "code",
   "execution_count": 27,
   "id": "8bb7b474-9de5-4e49-ba23-f467cd1a5167",
   "metadata": {},
   "outputs": [
    {
     "data": {
      "text/plain": [
       "['Radical Equations.pdf']"
      ]
     },
     "execution_count": 27,
     "metadata": {},
     "output_type": "execute_result"
    }
   ],
   "source": [
    "\n",
    "PDF_FOLDER = \"../pdfs\"\n",
    "search_pdfs(\"Radical\")"
   ]
  },
  {
   "cell_type": "code",
   "execution_count": 17,
   "id": "abdfde1e-92d4-44d8-8cd9-dfe295db2f42",
   "metadata": {},
   "outputs": [],
   "source": [
    "from sentence_transformers import SentenceTransformer\n",
    "\n",
    "model = SentenceTransformer('all-MiniLM-L6-v2')\n",
    "\n",
    "def generate_embeddings(text):\n",
    "    return model.encode(text)"
   ]
  },
  {
   "cell_type": "code",
   "execution_count": 18,
   "id": "d0707d9b-c297-4517-9284-ad106d4bb0c8",
   "metadata": {},
   "outputs": [],
   "source": [
    "from sklearn.metrics.pairwise import cosine_similarity\n",
    "\n",
    "def semantic_search(keyword, pdf_texts):\n",
    "    keyword_embedding = generate_embeddings(keyword)\n",
    "    pdf_embeddings = [generate_embeddings(text) for text in pdf_texts]\n",
    "    similarities = cosine_similarity([keyword_embedding], pdf_embeddings)\n",
    "    return similarities.argsort()[0][::-1]  # Return sorted indices\n"
   ]
  },
  {
   "cell_type": "code",
   "execution_count": 19,
   "id": "e05f4f75-809f-4d44-bd74-b4977913cd3b",
   "metadata": {},
   "outputs": [],
   "source": [
    "import openai\n",
    "\n",
    "def refine_with_gpt(keyword, pdf_text):\n",
    "    prompt = f\"Search for '{keyword}' in the text and explain its relevance:\\n\\n{pdf_text}\"\n",
    "    response = openai.ChatCompletion.create(\n",
    "        model=\"gpt-4\",\n",
    "        messages=[{\"role\": \"user\", \"content\": prompt}]\n",
    "    )\n",
    "    return response.choices[0].message['content']\n"
   ]
  },
  {
   "cell_type": "code",
   "execution_count": 21,
   "id": "af7d380b-bb02-4b0e-a0a4-e6774bc8c92b",
   "metadata": {},
   "outputs": [
    {
     "data": {
      "text/plain": [
       "array([ 949,  931,  922, ..., 4963, 4668, 3307])"
      ]
     },
     "execution_count": 21,
     "metadata": {},
     "output_type": "execute_result"
    }
   ],
   "source": [
    "semantic_search(\"Exponential\", text)"
   ]
  },
  {
   "cell_type": "code",
   "execution_count": 22,
   "id": "15491d1c-42f6-4437-9e5a-e58623816607",
   "metadata": {},
   "outputs": [
    {
     "data": {
      "text/plain": [
       "array([-6.15558885e-02, -3.27429213e-02, -8.14785063e-02,  2.20018942e-02,\n",
       "        2.16897670e-03, -7.06751645e-02, -4.91959192e-02,  4.50673141e-02,\n",
       "        5.91372512e-02,  6.03560358e-02,  9.69159156e-02, -3.40183489e-02,\n",
       "        1.34279542e-02,  4.39969152e-02,  7.23729730e-02,  5.68746701e-02,\n",
       "       -4.31586802e-02, -7.17484578e-02, -3.35697867e-02,  5.19162640e-02,\n",
       "        9.17470157e-02, -4.97853756e-02,  5.94947999e-03, -1.51990373e-02,\n",
       "        1.07879937e-02, -1.11024909e-01, -1.41220475e-02, -6.34936392e-02,\n",
       "        2.57932767e-02, -8.92783105e-02,  2.05309931e-02, -2.43783295e-02,\n",
       "       -3.44554661e-03,  2.79479511e-02,  7.15474971e-03,  3.31692360e-02,\n",
       "        4.52648662e-02,  3.54050696e-02,  2.44668801e-03, -1.39959976e-02,\n",
       "       -8.64054039e-02,  4.50172834e-02,  1.53103909e-02, -6.10411982e-04,\n",
       "        6.62536025e-02, -4.29078750e-02, -9.63842962e-03,  2.30673142e-02,\n",
       "       -6.08262271e-02,  1.45137990e-02, -8.16086307e-03,  1.38271246e-02,\n",
       "       -4.10450771e-02,  2.08319891e-02,  5.73407710e-02, -5.02457544e-02,\n",
       "        2.29066908e-02, -5.27395457e-02, -4.94055301e-02,  1.85231399e-02,\n",
       "        1.11635039e-02,  3.60045451e-05,  3.10880281e-02, -2.67454833e-02,\n",
       "        2.86848954e-05,  2.75322571e-02,  3.76872569e-02, -3.59265767e-02,\n",
       "        1.92266132e-03,  1.54564217e-01, -1.04109630e-01, -7.03938752e-02,\n",
       "       -1.11478372e-02,  7.33396551e-03,  4.66745868e-02, -3.26660797e-02,\n",
       "       -6.81697624e-03,  5.25274761e-02, -9.55348909e-02, -1.81047861e-02,\n",
       "        7.43188635e-02,  3.21524292e-02,  1.12615926e-02, -3.18462960e-02,\n",
       "       -4.89118882e-02,  4.50865086e-03,  2.66589355e-02,  3.22004072e-02,\n",
       "        7.59974867e-02,  3.37640271e-02,  7.22169783e-03,  9.62162837e-02,\n",
       "       -9.49541945e-03,  1.42467869e-02,  7.72618726e-02, -3.46675515e-02,\n",
       "        6.43399432e-02, -1.77124273e-02,  5.75897396e-02, -3.96663360e-02,\n",
       "       -9.24814641e-02, -3.08443867e-02,  4.57514524e-02,  5.76079302e-02,\n",
       "       -3.39191444e-02, -6.40106872e-02, -9.55350921e-02,  5.69770485e-02,\n",
       "        8.61558840e-02, -4.49883342e-02, -3.83249531e-03, -5.92840686e-02,\n",
       "       -4.21289578e-02,  2.41857246e-02,  8.77528265e-02,  2.85814540e-03,\n",
       "        4.34667021e-02, -6.05467558e-02, -1.40062924e-02,  2.42142770e-02,\n",
       "        7.88620934e-02,  1.36925161e-01,  6.99017057e-03,  5.46175353e-02,\n",
       "       -1.59496572e-02,  4.98304442e-02, -1.98925342e-02,  4.38245783e-33,\n",
       "       -6.08058646e-02, -9.36815329e-03, -6.27241805e-02, -2.15339232e-02,\n",
       "        6.82255924e-02, -2.57557747e-03, -4.32382487e-02,  2.09484473e-02,\n",
       "       -8.13180506e-02,  1.05917849e-01, -6.66709442e-04,  7.23361820e-02,\n",
       "        6.01369552e-02,  3.41009088e-02,  6.00286908e-02, -4.93502505e-02,\n",
       "        3.79956812e-02, -2.42618527e-02, -2.84504183e-02, -6.88754544e-02,\n",
       "        1.51386326e-02, -5.61528280e-02,  5.11020906e-02,  5.75491088e-03,\n",
       "        1.04614990e-02, -1.47187896e-03,  1.91245470e-02,  5.02491482e-02,\n",
       "       -3.53365727e-02, -3.71936150e-02,  2.63985293e-03,  1.16865197e-02,\n",
       "       -9.90885720e-02, -5.96534722e-02, -2.17216741e-02, -4.72019091e-02,\n",
       "        4.79678139e-02, -1.50862755e-02,  1.53009677e-02, -6.27426803e-02,\n",
       "       -1.22015327e-01,  1.81296561e-02, -2.01311577e-02,  5.95719479e-02,\n",
       "       -1.78666636e-02, -8.43421146e-02,  5.14885038e-02,  4.35719453e-02,\n",
       "        6.94125220e-02, -7.33720185e-03, -1.92089844e-02, -5.08487895e-02,\n",
       "       -2.91302484e-02,  1.07471431e-02,  1.68315619e-02,  9.51844305e-02,\n",
       "        3.07717081e-02,  5.36952242e-02, -5.19274138e-02,  3.87433879e-02,\n",
       "        4.65841629e-02, -7.08419308e-02,  1.40382694e-02, -8.65444690e-02,\n",
       "       -7.69772083e-02,  2.05817167e-03, -5.21472692e-02, -3.48970294e-02,\n",
       "        3.43454704e-02, -2.24059001e-02,  2.91897636e-02,  3.78196724e-02,\n",
       "        6.23015277e-02, -3.34499627e-02,  1.26833711e-02,  2.03240290e-02,\n",
       "       -6.10544346e-02, -2.23915316e-02, -3.30845229e-02,  3.00547350e-02,\n",
       "       -3.87010686e-02, -6.88908845e-02,  3.59816328e-02, -2.66986098e-02,\n",
       "       -2.36154348e-02, -7.89593384e-02,  5.74153587e-02, -2.09105313e-02,\n",
       "        5.79180531e-02, -4.63198461e-02, -6.61852509e-02, -1.73997658e-03,\n",
       "        2.19490342e-02,  2.92412508e-02,  3.31044048e-02, -6.93893874e-33,\n",
       "       -1.11696236e-02,  1.22892983e-01, -5.64762242e-02,  7.16693252e-02,\n",
       "        3.76609489e-02,  5.96046895e-02, -5.40110655e-02, -2.23769173e-02,\n",
       "        4.51719202e-02, -5.52631803e-02,  3.05389091e-02,  8.59397575e-02,\n",
       "       -6.65580183e-02,  5.36855981e-02,  5.64086404e-05, -4.96173501e-02,\n",
       "       -1.08520929e-02, -5.50978631e-02, -3.05007529e-02, -1.02113727e-02,\n",
       "       -6.71363473e-02,  6.10110871e-02, -1.00541614e-01, -5.72318844e-02,\n",
       "        4.86018062e-02,  7.97945932e-02, -5.44169396e-02,  2.05039233e-02,\n",
       "        2.20082626e-02, -3.21728401e-02, -6.33175448e-02,  7.45558962e-02,\n",
       "        4.59926911e-02, -5.76484203e-02,  2.07927953e-02,  2.38216040e-03,\n",
       "        2.11553778e-02, -1.05930679e-02,  6.34990409e-02, -4.58978862e-02,\n",
       "        3.62073183e-02,  6.05890416e-02,  8.72566923e-02, -9.57834870e-02,\n",
       "        5.85449524e-02,  3.50727811e-02,  1.54264010e-02,  9.97223556e-02,\n",
       "        1.63778439e-02,  8.38218927e-02,  4.60081361e-03,  3.50369001e-03,\n",
       "        3.72515842e-02,  2.41671503e-02, -9.69619527e-02,  1.28188003e-02,\n",
       "        2.45130602e-02, -9.99986939e-03, -1.30141098e-02, -8.57570861e-03,\n",
       "       -5.71340285e-02, -6.30739052e-03,  8.09015781e-02,  3.12486794e-02,\n",
       "       -1.04440786e-01, -8.18522871e-02, -7.25891665e-02, -3.86947766e-02,\n",
       "        5.22346497e-02, -7.00028390e-02, -6.77500069e-02,  2.02495847e-02,\n",
       "       -1.69183221e-03, -2.29235794e-02, -7.27068037e-02, -2.95961518e-02,\n",
       "       -5.90258501e-02, -8.42480436e-02,  2.72352397e-02, -1.13069117e-02,\n",
       "       -2.24099662e-02,  1.07025124e-01,  3.27875018e-02, -3.47781964e-02,\n",
       "       -7.47710019e-02,  4.25771922e-02, -4.42670323e-02, -4.04699333e-03,\n",
       "        4.07143012e-02, -6.19838051e-02, -7.45694116e-02, -9.21649300e-03,\n",
       "       -1.12801641e-01, -7.49204829e-02,  2.82599833e-02, -5.00149362e-08,\n",
       "       -2.37865988e-02,  6.71589524e-02,  2.08585691e-02, -3.41240391e-02,\n",
       "        1.25548109e-01,  1.12343468e-02,  8.02382380e-02, -6.13906141e-03,\n",
       "        2.14101691e-02, -4.13060263e-02,  1.68066453e-02,  2.93754656e-02,\n",
       "       -2.30026226e-02, -5.87394163e-02, -4.63094227e-02, -2.11107284e-02,\n",
       "        4.45350148e-02, -6.77455440e-02,  1.37067288e-02, -6.64335564e-02,\n",
       "       -7.07691759e-02, -3.18862237e-02, -3.33491191e-02, -3.51230055e-02,\n",
       "       -7.40195531e-03, -7.98573717e-02, -9.43406820e-02,  5.42398691e-02,\n",
       "       -4.10540998e-02, -1.47718275e-02, -2.61214729e-02,  6.16135821e-02,\n",
       "        9.20601115e-02,  4.68391888e-02,  9.87054501e-03, -3.28248404e-02,\n",
       "        4.84941974e-02,  3.45133897e-03, -1.31007312e-02,  8.80145878e-02,\n",
       "        1.94483381e-02, -5.17335385e-02, -3.32719348e-02, -3.80393788e-02,\n",
       "       -1.42636774e-02,  6.13973336e-03,  4.55878638e-02, -4.30123769e-02,\n",
       "        2.58727907e-03,  2.06367373e-02,  1.13957860e-02,  7.44993100e-03,\n",
       "       -9.16841179e-02,  7.29081919e-03,  6.03863737e-03,  5.51494248e-02,\n",
       "       -8.53437409e-02, -4.33840491e-02, -8.54612980e-03,  9.14788470e-02,\n",
       "        4.29086201e-02,  5.45364358e-02,  2.05051452e-02,  4.04394651e-03],\n",
       "      dtype=float32)"
      ]
     },
     "execution_count": 22,
     "metadata": {},
     "output_type": "execute_result"
    }
   ],
   "source": [
    "generate_embeddings(text)"
   ]
  },
  {
   "cell_type": "code",
   "execution_count": 23,
   "id": "3b377ad6-66b6-46a3-aa5f-7cf8aca6961d",
   "metadata": {},
   "outputs": [
    {
     "ename": "APIRemovedInV1",
     "evalue": "\n\nYou tried to access openai.ChatCompletion, but this is no longer supported in openai>=1.0.0 - see the README at https://github.com/openai/openai-python for the API.\n\nYou can run `openai migrate` to automatically upgrade your codebase to use the 1.0.0 interface. \n\nAlternatively, you can pin your installation to the old version, e.g. `pip install openai==0.28`\n\nA detailed migration guide is available here: https://github.com/openai/openai-python/discussions/742\n",
     "output_type": "error",
     "traceback": [
      "\u001b[0;31m---------------------------------------------------------------------------\u001b[0m",
      "\u001b[0;31mAPIRemovedInV1\u001b[0m                            Traceback (most recent call last)",
      "Cell \u001b[0;32mIn[23], line 1\u001b[0m\n\u001b[0;32m----> 1\u001b[0m refine_with_gpt(\u001b[38;5;124m\"\u001b[39m\u001b[38;5;124mExponential\u001b[39m\u001b[38;5;124m\"\u001b[39m, text)\n",
      "Cell \u001b[0;32mIn[19], line 5\u001b[0m, in \u001b[0;36mrefine_with_gpt\u001b[0;34m(keyword, pdf_text)\u001b[0m\n\u001b[1;32m      3\u001b[0m \u001b[38;5;28;01mdef\u001b[39;00m \u001b[38;5;21mrefine_with_gpt\u001b[39m(keyword, pdf_text):\n\u001b[1;32m      4\u001b[0m     prompt \u001b[38;5;241m=\u001b[39m \u001b[38;5;124mf\u001b[39m\u001b[38;5;124m\"\u001b[39m\u001b[38;5;124mSearch for \u001b[39m\u001b[38;5;124m'\u001b[39m\u001b[38;5;132;01m{\u001b[39;00mkeyword\u001b[38;5;132;01m}\u001b[39;00m\u001b[38;5;124m'\u001b[39m\u001b[38;5;124m in the text and explain its relevance:\u001b[39m\u001b[38;5;130;01m\\n\u001b[39;00m\u001b[38;5;130;01m\\n\u001b[39;00m\u001b[38;5;132;01m{\u001b[39;00mpdf_text\u001b[38;5;132;01m}\u001b[39;00m\u001b[38;5;124m\"\u001b[39m\n\u001b[0;32m----> 5\u001b[0m     response \u001b[38;5;241m=\u001b[39m openai\u001b[38;5;241m.\u001b[39mChatCompletion\u001b[38;5;241m.\u001b[39mcreate(\n\u001b[1;32m      6\u001b[0m         model\u001b[38;5;241m=\u001b[39m\u001b[38;5;124m\"\u001b[39m\u001b[38;5;124mgpt-4\u001b[39m\u001b[38;5;124m\"\u001b[39m,\n\u001b[1;32m      7\u001b[0m         messages\u001b[38;5;241m=\u001b[39m[{\u001b[38;5;124m\"\u001b[39m\u001b[38;5;124mrole\u001b[39m\u001b[38;5;124m\"\u001b[39m: \u001b[38;5;124m\"\u001b[39m\u001b[38;5;124muser\u001b[39m\u001b[38;5;124m\"\u001b[39m, \u001b[38;5;124m\"\u001b[39m\u001b[38;5;124mcontent\u001b[39m\u001b[38;5;124m\"\u001b[39m: prompt}]\n\u001b[1;32m      8\u001b[0m     )\n\u001b[1;32m      9\u001b[0m     \u001b[38;5;28;01mreturn\u001b[39;00m response\u001b[38;5;241m.\u001b[39mchoices[\u001b[38;5;241m0\u001b[39m]\u001b[38;5;241m.\u001b[39mmessage[\u001b[38;5;124m'\u001b[39m\u001b[38;5;124mcontent\u001b[39m\u001b[38;5;124m'\u001b[39m]\n",
      "File \u001b[0;32m/opt/anaconda3/lib/python3.12/site-packages/openai/lib/_old_api.py:39\u001b[0m, in \u001b[0;36mAPIRemovedInV1Proxy.__call__\u001b[0;34m(self, *_args, **_kwargs)\u001b[0m\n\u001b[1;32m     38\u001b[0m \u001b[38;5;28;01mdef\u001b[39;00m \u001b[38;5;21m__call__\u001b[39m(\u001b[38;5;28mself\u001b[39m, \u001b[38;5;241m*\u001b[39m_args: Any, \u001b[38;5;241m*\u001b[39m\u001b[38;5;241m*\u001b[39m_kwargs: Any) \u001b[38;5;241m-\u001b[39m\u001b[38;5;241m>\u001b[39m Any:\n\u001b[0;32m---> 39\u001b[0m     \u001b[38;5;28;01mraise\u001b[39;00m APIRemovedInV1(symbol\u001b[38;5;241m=\u001b[39m\u001b[38;5;28mself\u001b[39m\u001b[38;5;241m.\u001b[39m_symbol)\n",
      "\u001b[0;31mAPIRemovedInV1\u001b[0m: \n\nYou tried to access openai.ChatCompletion, but this is no longer supported in openai>=1.0.0 - see the README at https://github.com/openai/openai-python for the API.\n\nYou can run `openai migrate` to automatically upgrade your codebase to use the 1.0.0 interface. \n\nAlternatively, you can pin your installation to the old version, e.g. `pip install openai==0.28`\n\nA detailed migration guide is available here: https://github.com/openai/openai-python/discussions/742\n"
     ]
    }
   ],
   "source": [
    "refine_with_gpt(\"Exponential\", text)"
   ]
  },
  {
   "cell_type": "code",
   "execution_count": 28,
   "id": "3b5b8715-929b-415e-8365-0518d89c4ed1",
   "metadata": {},
   "outputs": [],
   "source": [
    "# Load a pre-trained Sentence Transformer model\n",
    "model = SentenceTransformer('all-MiniLM-L6-v2')\n",
    "\n",
    "def extract_text_from_pdf(pdf_path):\n",
    "    \"\"\"\n",
    "    Extracts text from a PDF file.\n",
    "    \"\"\"\n",
    "    with open(pdf_path, \"rb\") as file:\n",
    "        reader = PyPDF2.PdfReader(file)\n",
    "        text = \"\"\n",
    "        for page in reader.pages:\n",
    "            text += page.extract_text()\n",
    "    return text\n",
    "\n",
    "def generate_embeddings(text):\n",
    "    \"\"\"\n",
    "    Generates embeddings for a given text using SentenceTransformer.\n",
    "    \"\"\"\n",
    "    return model.encode(text)\n",
    "\n",
    "def load_pdf_embeddings():\n",
    "    \"\"\"\n",
    "    Loads and generates embeddings for all PDFs in the folder.\n",
    "    Returns a dictionary with filenames and embeddings.\n",
    "    \"\"\"\n",
    "    pdf_embeddings = {}\n",
    "    for filename in os.listdir(PDF_FOLDER):\n",
    "        if filename.endswith(\".pdf\"):\n",
    "            pdf_path = os.path.join(PDF_FOLDER, filename)\n",
    "            text = extract_text_from_pdf(pdf_path)\n",
    "            pdf_embeddings[filename] = generate_embeddings(text)\n",
    "    return pdf_embeddings\n",
    "\n",
    "def search_pdfs(query, pdf_embeddings):\n",
    "    \"\"\"\n",
    "    Searches for a query in all PDF embeddings and ranks results by similarity.\n",
    "    \"\"\"\n",
    "    query_embedding = generate_embeddings(query)\n",
    "    results = []\n",
    "    for filename, embedding in pdf_embeddings.items():\n",
    "        similarity = cosine_similarity([query_embedding], [embedding])[0][0]\n",
    "        results.append((filename, similarity))\n",
    "    # Sort results by similarity in descending order\n",
    "    results = sorted(results, key=lambda x: x[1], reverse=True)\n",
    "    return results"
   ]
  },
  {
   "cell_type": "code",
   "execution_count": 30,
   "id": "5ef6db31-77ad-4f2c-94be-a2dc529aaeba",
   "metadata": {},
   "outputs": [],
   "source": [
    "pdf_embeddings = load_pdf_embeddings()\n",
    "    \n",
    "\n",
    "# Search PDFs\n",
    "results = search_pdfs(\"Exponential\", pdf_embeddings)"
   ]
  },
  {
   "cell_type": "code",
   "execution_count": 33,
   "id": "706d522a-5939-49ee-8d20-ddacf3426523",
   "metadata": {},
   "outputs": [
    {
     "data": {
      "text/plain": [
       "'exponential_Functions.pdf'"
      ]
     },
     "execution_count": 33,
     "metadata": {},
     "output_type": "execute_result"
    }
   ],
   "source": [
    "results[0][0]"
   ]
  },
  {
   "cell_type": "code",
   "execution_count": null,
   "id": "0eabfb55-2fb5-4145-a611-49ba606a4e25",
   "metadata": {},
   "outputs": [],
   "source": []
  }
 ],
 "metadata": {
  "kernelspec": {
   "display_name": "Python 3 (ipykernel)",
   "language": "python",
   "name": "python3"
  },
  "language_info": {
   "codemirror_mode": {
    "name": "ipython",
    "version": 3
   },
   "file_extension": ".py",
   "mimetype": "text/x-python",
   "name": "python",
   "nbconvert_exporter": "python",
   "pygments_lexer": "ipython3",
   "version": "3.12.2"
  }
 },
 "nbformat": 4,
 "nbformat_minor": 5
}
